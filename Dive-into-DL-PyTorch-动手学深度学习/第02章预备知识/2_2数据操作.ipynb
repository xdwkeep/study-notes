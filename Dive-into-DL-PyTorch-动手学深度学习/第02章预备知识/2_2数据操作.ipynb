{
 "metadata": {
  "language_info": {
   "codemirror_mode": {
    "name": "ipython",
    "version": 3
   },
   "file_extension": ".py",
   "mimetype": "text/x-python",
   "name": "python",
   "nbconvert_exporter": "python",
   "pygments_lexer": "ipython3",
   "version": "3.6.12-final"
  },
  "orig_nbformat": 2,
  "kernelspec": {
   "name": "python3",
   "display_name": "Python 3"
  }
 },
 "nbformat": 4,
 "nbformat_minor": 2,
 "cells": [
  {
   "source": [
    "# 数据操作"
   ],
   "cell_type": "markdown",
   "metadata": {}
  },
  {
   "cell_type": "code",
   "execution_count": 18,
   "metadata": {},
   "outputs": [
    {
     "output_type": "stream",
     "name": "stdout",
     "text": [
      "1.6.0\n"
     ]
    }
   ],
   "source": [
    "import torch\n",
    "print(torch.__version__)"
   ]
  },
  {
   "source": [
    "## 创建Tensor"
   ],
   "cell_type": "markdown",
   "metadata": {}
  },
  {
   "cell_type": "code",
   "execution_count": 19,
   "metadata": {},
   "outputs": [
    {
     "output_type": "execute_result",
     "data": {
      "text/plain": [
       "tensor([[9.0000e-39, 1.0561e-38, 1.0653e-38],\n",
       "        [4.1327e-39, 8.9082e-39, 9.8265e-39],\n",
       "        [9.4592e-39, 1.0561e-38, 1.0286e-38],\n",
       "        [9.4592e-39, 9.2755e-39, 1.0653e-38],\n",
       "        [8.4490e-39, 9.2755e-39, 9.2756e-39]])"
      ]
     },
     "metadata": {},
     "execution_count": 19
    }
   ],
   "source": [
    "torch.empty(5, 3)"
   ]
  },
  {
   "cell_type": "code",
   "execution_count": 20,
   "metadata": {},
   "outputs": [
    {
     "output_type": "execute_result",
     "data": {
      "text/plain": [
       "tensor([[0.5897, 0.5081, 0.1343],\n",
       "        [0.1882, 0.3719, 0.8727],\n",
       "        [0.4961, 0.3528, 0.2107],\n",
       "        [0.7690, 0.9004, 0.3848],\n",
       "        [0.8497, 0.2858, 0.6684]])"
      ]
     },
     "metadata": {},
     "execution_count": 20
    }
   ],
   "source": [
    "torch.rand(5, 3)"
   ]
  },
  {
   "cell_type": "code",
   "execution_count": 21,
   "metadata": {},
   "outputs": [
    {
     "output_type": "execute_result",
     "data": {
      "text/plain": [
       "tensor([[0., 0., 0.],\n",
       "        [0., 0., 0.],\n",
       "        [0., 0., 0.],\n",
       "        [0., 0., 0.],\n",
       "        [0., 0., 0.]])"
      ]
     },
     "metadata": {},
     "execution_count": 21
    }
   ],
   "source": [
    "torch.zeros(5, 3)"
   ]
  },
  {
   "cell_type": "code",
   "execution_count": 22,
   "metadata": {},
   "outputs": [
    {
     "output_type": "execute_result",
     "data": {
      "text/plain": [
       "tensor([5.0000, 3.2000])"
      ]
     },
     "metadata": {},
     "execution_count": 22
    }
   ],
   "source": [
    "torch.tensor([5, 3.2])"
   ]
  },
  {
   "cell_type": "code",
   "execution_count": 24,
   "metadata": {},
   "outputs": [
    {
     "output_type": "stream",
     "name": "stdout",
     "text": [
      "tensor([[0.6215, 0.3859, 0.2711],\n        [0.5395, 0.4195, 0.5124],\n        [0.9558, 0.4669, 0.6115],\n        [0.1551, 0.9374, 0.8943],\n        [0.3990, 0.7648, 0.1181]])\ntensor([[0.6215, 0.3859, 0.2711],\n        [0.5395, 0.4195, 0.5124],\n        [0.9558, 0.4669, 0.6115],\n        [0.1551, 0.9374, 0.8943],\n        [0.3990, 0.7648, 0.1181]])\ntensor([[1.6215, 1.3859, 1.2711],\n        [1.5395, 1.4195, 1.5124],\n        [1.9558, 1.4669, 1.6115],\n        [1.1551, 1.9374, 1.8943],\n        [1.3990, 1.7648, 1.1181]])\ntensor([[0.6215, 0.3859, 0.2711],\n        [0.5395, 0.4195, 0.5124],\n        [0.9558, 0.4669, 0.6115],\n        [0.1551, 0.9374, 0.8943],\n        [0.3990, 0.7648, 0.1181]])\n"
     ]
    }
   ],
   "source": [
    "x = torch.rand(5, 3)\n",
    "print(x)\n",
    "y = torch.tensor(x)\n",
    "print(y)\n",
    "x = x + 1\n",
    "print(x)\n",
    "print(y)"
   ]
  },
  {
   "source": [
    "## 看形状"
   ],
   "cell_type": "markdown",
   "metadata": {}
  },
  {
   "cell_type": "code",
   "execution_count": 25,
   "metadata": {},
   "outputs": [
    {
     "output_type": "execute_result",
     "data": {
      "text/plain": [
       "torch.Size([5, 3])"
      ]
     },
     "metadata": {},
     "execution_count": 25
    }
   ],
   "source": [
    "x.size()"
   ]
  },
  {
   "cell_type": "code",
   "execution_count": 26,
   "metadata": {},
   "outputs": [
    {
     "output_type": "execute_result",
     "data": {
      "text/plain": [
       "torch.Size([5, 3])"
      ]
     },
     "metadata": {},
     "execution_count": 26
    }
   ],
   "source": [
    "x.shape"
   ]
  },
  {
   "source": [
    "## 算数操作"
   ],
   "cell_type": "markdown",
   "metadata": {}
  },
  {
   "cell_type": "code",
   "execution_count": 29,
   "metadata": {},
   "outputs": [
    {
     "output_type": "stream",
     "name": "stdout",
     "text": [
      "a:\ntensor([[0.7008, 0.2685, 0.0909],\n        [0.1638, 0.7049, 0.6193],\n        [0.2007, 0.4356, 0.9363],\n        [0.3070, 0.0761, 0.2846],\n        [0.6915, 0.4346, 0.7149]])\nb:\ntensor([[0.0370, 0.6029, 0.5781],\n        [0.9956, 0.6245, 0.4870],\n        [0.9934, 0.3533, 0.2711],\n        [0.4895, 0.8348, 0.4540],\n        [0.6055, 0.4929, 0.4474]])\na+b:\ntensor([[0.7379, 0.8714, 0.6690],\n        [1.1594, 1.3294, 1.1064],\n        [1.1942, 0.7889, 1.2075],\n        [0.7965, 0.9109, 0.7386],\n        [1.2970, 0.9276, 1.1623]])\ntensor([[0.7379, 0.8714, 0.6690],\n        [1.1594, 1.3294, 1.1064],\n        [1.1942, 0.7889, 1.2075],\n        [0.7965, 0.9109, 0.7386],\n        [1.2970, 0.9276, 1.1623]])\ntensor([[0.7379, 0.8714, 0.6690],\n        [1.1594, 1.3294, 1.1064],\n        [1.1942, 0.7889, 1.2075],\n        [0.7965, 0.9109, 0.7386],\n        [1.2970, 0.9276, 1.1623]])\n"
     ]
    }
   ],
   "source": [
    "a = torch.rand(5, 3)\n",
    "b = torch.rand(5, 3)\n",
    "print('a:')\n",
    "print(a)\n",
    "print('b:')\n",
    "print(b)\n",
    "print('a+b:')\n",
    "print(a + b)\n",
    "print(torch.add(a, b))\n",
    "print(a.add_(b))"
   ]
  },
  {
   "source": [
    "## 索引"
   ],
   "cell_type": "markdown",
   "metadata": {}
  },
  {
   "cell_type": "code",
   "execution_count": 35,
   "metadata": {},
   "outputs": [
    {
     "output_type": "stream",
     "name": "stdout",
     "text": [
      "tensor([[0.1018, 0.0732, 0.9403],\n        [0.9620, 0.8203, 0.6471],\n        [0.8468, 0.7040, 0.9371],\n        [0.0120, 0.3451, 0.1076],\n        [0.5409, 0.0251, 0.1531]])\ntensor([0.1018, 0.0732, 0.9403])\ntensor([[1.1018, 1.0732, 1.9403],\n        [0.9620, 0.8203, 0.6471],\n        [0.8468, 0.7040, 0.9371],\n        [0.0120, 0.3451, 0.1076],\n        [0.5409, 0.0251, 0.1531]])\ntensor([1.1018, 1.0732, 1.9403])\ntensor([[ 0.1018,  0.0732,  0.9403],\n        [-0.0380, -0.1797, -0.3529],\n        [-0.1532, -0.2960, -0.0629],\n        [-0.9880, -0.6549, -0.8924],\n        [-0.4591, -0.9749, -0.8469]])\ntensor([0.1018, 0.0732, 0.9403])\n"
     ]
    }
   ],
   "source": [
    "a = torch.rand(5, 3)\n",
    "print(a)\n",
    "\n",
    "b = a[0, :]\n",
    "print(b)\n",
    "\n",
    "# 其共享内存\n",
    "b += 1\n",
    "print(a)\n",
    "print(b)"
   ]
  },
  {
   "source": [
    "## 改变形状"
   ],
   "cell_type": "markdown",
   "metadata": {}
  },
  {
   "cell_type": "code",
   "execution_count": 37,
   "metadata": {},
   "outputs": [
    {
     "output_type": "stream",
     "name": "stdout",
     "text": [
      "torch.Size([5, 3])\ntorch.Size([3, 5])\ntensor([[1.9155, 1.4659, 1.9620],\n        [1.2890, 1.9271, 1.2951],\n        [1.6972, 1.1101, 1.6667],\n        [1.4789, 1.0590, 1.8330],\n        [1.2987, 1.3256, 1.1104]])\ntensor([[1.9155, 1.4659, 1.9620, 1.2890, 1.9271],\n        [1.2951, 1.6972, 1.1101, 1.6667, 1.4789],\n        [1.0590, 1.8330, 1.2987, 1.3256, 1.1104]])\ntensor([[2.9155, 2.4659, 2.9620],\n        [2.2890, 2.9271, 2.2951],\n        [2.6972, 2.1101, 2.6667],\n        [2.4789, 2.0590, 2.8330],\n        [2.2987, 2.3256, 2.1104]])\ntensor([[1.9155, 1.4659, 1.9620, 1.2890, 1.9271],\n        [1.2951, 1.6972, 1.1101, 1.6667, 1.4789],\n        [1.0590, 1.8330, 1.2987, 1.3256, 1.1104]])\n"
     ]
    }
   ],
   "source": [
    "x = torch.rand(5, 3)\n",
    "print(x.size())\n",
    "y = x.view(-1, 5)\n",
    "print(y.size())\n",
    "# 依旧共享内存\n",
    "x += 1\n",
    "print(x)\n",
    "print(y)\n",
    "# 若要不共享，可以选择使用clone\n",
    "y = x.clone().view(-1, 5)\n",
    "x += 1\n",
    "print(x)\n",
    "print(y)"
   ]
  },
  {
   "source": [
    "## Tensor和Numpy互换"
   ],
   "cell_type": "markdown",
   "metadata": {}
  },
  {
   "cell_type": "code",
   "execution_count": 38,
   "metadata": {},
   "outputs": [
    {
     "output_type": "stream",
     "name": "stdout",
     "text": [
      "tensor([[0.9638, 0.5980, 0.4349],\n        [0.8199, 0.3134, 0.0441],\n        [0.5306, 0.3088, 0.0197],\n        [0.9394, 0.2022, 0.2792],\n        [0.1768, 0.8214, 0.0580]])\n[[0.9638411  0.5980037  0.4348811 ]\n [0.8198872  0.313411   0.04412693]\n [0.5306272  0.30884075 0.01966816]\n [0.93938863 0.2021733  0.2792294 ]\n [0.1767714  0.82144856 0.05802971]]\n[1. 1. 1. 1. 1.]\ntensor([1., 1., 1., 1., 1.], dtype=torch.float64)\n"
     ]
    }
   ],
   "source": [
    "import numpy as np\n",
    "a = torch.rand(5, 3)\n",
    "b = a.numpy()\n",
    "print(a)\n",
    "print(b)\n",
    "# 它们两个依旧共享内存\n",
    "\n",
    "a = np.ones(5)\n",
    "b = torch.from_numpy(a)\n",
    "print(a)\n",
    "print(b)"
   ]
  },
  {
   "source": [
    "## tensor on gpu"
   ],
   "cell_type": "markdown",
   "metadata": {}
  },
  {
   "cell_type": "code",
   "execution_count": 39,
   "metadata": {},
   "outputs": [
    {
     "output_type": "stream",
     "name": "stdout",
     "text": [
      "tensor([[0.3803, 0.6431, 0.3967],\n",
      "        [0.7907, 0.0030, 0.7056],\n",
      "        [0.6722, 0.2931, 0.8515],\n",
      "        [0.0947, 0.8922, 0.3683],\n",
      "        [0.3775, 0.9959, 0.3859]])\n",
      "tensor([[1., 1., 1.],\n",
      "        [1., 1., 1.],\n",
      "        [1., 1., 1.],\n",
      "        [1., 1., 1.],\n",
      "        [1., 1., 1.]], device='cuda:0')\n"
     ]
    }
   ],
   "source": [
    "device = torch.device(\"cuda\")\n",
    "x = torch.rand(5, 3)\n",
    "print(x)\n",
    "y = torch.ones_like(x, device=device)\n",
    "print(y)"
   ]
  },
  {
   "cell_type": "code",
   "execution_count": null,
   "metadata": {},
   "outputs": [],
   "source": []
  }
 ]
}